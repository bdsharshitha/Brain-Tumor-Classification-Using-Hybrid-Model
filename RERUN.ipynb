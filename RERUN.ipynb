{
 "cells": [
  {
   "cell_type": "code",
   "execution_count": 10,
   "id": "edc95f35-f55b-4885-95da-f1a960f1a7ab",
   "metadata": {},
   "outputs": [],
   "source": [
    "#importing modules\n",
    "import os\n",
    "import cv2\n",
    "import numpy as np\n",
    "import pandas as pd\n",
    "from sklearn.model_selection import train_test_split\n",
    "from sklearn.metrics import accuracy_score\n",
    "from sklearn.svm import SVC\n",
    "from tensorflow.keras.layers import Input, Conv2D, MaxPooling2D, Flatten, Dense\n",
    "from tensorflow.keras.models import Model\n",
    "import matplotlib.pyplot as plt"
   ]
  },
  {
   "cell_type": "code",
   "execution_count": 11,
   "id": "5bf9992e-3ec8-4d2b-a710-34bcca0903f3",
   "metadata": {},
   "outputs": [],
   "source": [
    "#giving path of each tumor\n",
    "path_meningioma_tumor = 'brain_tumor_dataset/1'\n",
    "path_glioma_tumor = 'brain_tumor_dataset/2'\n",
    "path_pituitary_tumor = 'brain_tumor_dataset/3'"
   ]
  },
  {
   "cell_type": "code",
   "execution_count": 12,
   "id": "9cfb7f49-da5b-45e8-9292-bb009ffa2fef",
   "metadata": {},
   "outputs": [],
   "source": [
    "# giving labels to tumor\n",
    "label_map = {\n",
    "    path_meningioma_tumor: 0,\n",
    "    path_glioma_tumor: 1,\n",
    "    path_pituitary_tumor: 2\n",
    "}"
   ]
  },
  {
   "cell_type": "code",
   "execution_count": 13,
   "id": "7b2d2852-eb5a-4ece-9c16-628e49feccb6",
   "metadata": {},
   "outputs": [],
   "source": [
    "# loading the images from paths\n",
    "x = []\n",
    "y = []\n",
    "\n",
    "for path, label in label_map.items():\n",
    "    for filename in os.listdir(path):\n",
    "        file_path = os.path.join(path, filename)\n",
    "        if os.path.isfile(file_path):\n",
    "            image = cv2.imread(file_path)\n",
    "            if image is not None:\n",
    "                image = cv2.resize(image, (200, 200)) #resizing the images\n",
    "                resized_image_rgb = cv2.cvtColor(image, cv2.COLOR_BGR2RGB)\n",
    "                x.append(resized_image_rgb)\n",
    "                y.append(label)\n",
    "\n",
    "x = np.array(x)\n",
    "y = np.array(y)"
   ]
  },
  {
   "cell_type": "code",
   "execution_count": 14,
   "id": "6d415be6-536e-47fe-90d7-612b9efa96e1",
   "metadata": {},
   "outputs": [
    {
     "data": {
      "text/plain": [
       "array([[[[68,  1, 84],\n",
       "         [68,  1, 84],\n",
       "         [68,  1, 84],\n",
       "         ...,\n",
       "         [68,  1, 84],\n",
       "         [68,  1, 84],\n",
       "         [68,  1, 84]],\n",
       "\n",
       "        [[68,  1, 84],\n",
       "         [68,  1, 84],\n",
       "         [68,  1, 84],\n",
       "         ...,\n",
       "         [68,  1, 84],\n",
       "         [68,  1, 84],\n",
       "         [68,  1, 84]],\n",
       "\n",
       "        [[68,  1, 84],\n",
       "         [68,  1, 84],\n",
       "         [68,  1, 84],\n",
       "         ...,\n",
       "         [68,  2, 85],\n",
       "         [68,  1, 84],\n",
       "         [68,  1, 84]],\n",
       "\n",
       "        ...,\n",
       "\n",
       "        [[68,  1, 84],\n",
       "         [68,  1, 84],\n",
       "         [68,  1, 84],\n",
       "         ...,\n",
       "         [68,  2, 85],\n",
       "         [68,  1, 84],\n",
       "         [68,  1, 84]],\n",
       "\n",
       "        [[68,  1, 84],\n",
       "         [68,  1, 84],\n",
       "         [68,  1, 84],\n",
       "         ...,\n",
       "         [68,  1, 84],\n",
       "         [68,  1, 84],\n",
       "         [68,  1, 84]],\n",
       "\n",
       "        [[68,  1, 84],\n",
       "         [68,  1, 84],\n",
       "         [68,  1, 84],\n",
       "         ...,\n",
       "         [68,  1, 84],\n",
       "         [68,  1, 84],\n",
       "         [68,  1, 84]]],\n",
       "\n",
       "\n",
       "       [[[68,  1, 84],\n",
       "         [68,  1, 84],\n",
       "         [68,  1, 84],\n",
       "         ...,\n",
       "         [68,  1, 84],\n",
       "         [68,  1, 84],\n",
       "         [68,  1, 84]],\n",
       "\n",
       "        [[68,  1, 84],\n",
       "         [68,  1, 84],\n",
       "         [68,  1, 84],\n",
       "         ...,\n",
       "         [68,  1, 84],\n",
       "         [68,  1, 84],\n",
       "         [68,  1, 84]],\n",
       "\n",
       "        [[68,  1, 84],\n",
       "         [68,  1, 84],\n",
       "         [68,  1, 84],\n",
       "         ...,\n",
       "         [68,  1, 84],\n",
       "         [68,  1, 84],\n",
       "         [68,  1, 84]],\n",
       "\n",
       "        ...,\n",
       "\n",
       "        [[68,  1, 84],\n",
       "         [68,  1, 84],\n",
       "         [68,  1, 84],\n",
       "         ...,\n",
       "         [68,  1, 84],\n",
       "         [68,  1, 84],\n",
       "         [68,  1, 84]],\n",
       "\n",
       "        [[68,  1, 84],\n",
       "         [68,  1, 84],\n",
       "         [68,  1, 84],\n",
       "         ...,\n",
       "         [68,  1, 84],\n",
       "         [68,  1, 84],\n",
       "         [68,  1, 84]],\n",
       "\n",
       "        [[68,  1, 84],\n",
       "         [68,  1, 84],\n",
       "         [68,  1, 84],\n",
       "         ...,\n",
       "         [68,  1, 84],\n",
       "         [68,  1, 84],\n",
       "         [68,  1, 84]]],\n",
       "\n",
       "\n",
       "       [[[68,  1, 84],\n",
       "         [68,  1, 84],\n",
       "         [68,  1, 84],\n",
       "         ...,\n",
       "         [68,  1, 84],\n",
       "         [68,  1, 84],\n",
       "         [68,  1, 84]],\n",
       "\n",
       "        [[68,  1, 84],\n",
       "         [68,  1, 84],\n",
       "         [68,  1, 84],\n",
       "         ...,\n",
       "         [68,  1, 84],\n",
       "         [68,  1, 84],\n",
       "         [68,  1, 84]],\n",
       "\n",
       "        [[68,  1, 84],\n",
       "         [68,  1, 84],\n",
       "         [68,  1, 84],\n",
       "         ...,\n",
       "         [68,  1, 84],\n",
       "         [68,  1, 84],\n",
       "         [68,  1, 84]],\n",
       "\n",
       "        ...,\n",
       "\n",
       "        [[68,  1, 84],\n",
       "         [68,  1, 84],\n",
       "         [68,  1, 84],\n",
       "         ...,\n",
       "         [68,  2, 85],\n",
       "         [68,  1, 84],\n",
       "         [68,  1, 84]],\n",
       "\n",
       "        [[68,  1, 84],\n",
       "         [68,  1, 84],\n",
       "         [68,  1, 84],\n",
       "         ...,\n",
       "         [68,  1, 84],\n",
       "         [68,  1, 84],\n",
       "         [68,  1, 84]],\n",
       "\n",
       "        [[68,  1, 84],\n",
       "         [68,  1, 84],\n",
       "         [68,  1, 84],\n",
       "         ...,\n",
       "         [68,  1, 84],\n",
       "         [68,  1, 84],\n",
       "         [68,  1, 84]]],\n",
       "\n",
       "\n",
       "       ...,\n",
       "\n",
       "\n",
       "       [[[68,  1, 84],\n",
       "         [68,  1, 84],\n",
       "         [68,  1, 84],\n",
       "         ...,\n",
       "         [68,  1, 84],\n",
       "         [68,  1, 84],\n",
       "         [68,  1, 84]],\n",
       "\n",
       "        [[68,  1, 84],\n",
       "         [68,  1, 84],\n",
       "         [68,  1, 84],\n",
       "         ...,\n",
       "         [68,  2, 85],\n",
       "         [68,  2, 85],\n",
       "         [68,  1, 84]],\n",
       "\n",
       "        [[68,  1, 84],\n",
       "         [68,  1, 84],\n",
       "         [68,  1, 84],\n",
       "         ...,\n",
       "         [68,  2, 85],\n",
       "         [68,  2, 85],\n",
       "         [68,  2, 85]],\n",
       "\n",
       "        ...,\n",
       "\n",
       "        [[68,  1, 84],\n",
       "         [68,  1, 84],\n",
       "         [68,  1, 84],\n",
       "         ...,\n",
       "         [68,  2, 85],\n",
       "         [68,  2, 85],\n",
       "         [68,  2, 85]],\n",
       "\n",
       "        [[68,  1, 84],\n",
       "         [68,  1, 84],\n",
       "         [68,  1, 84],\n",
       "         ...,\n",
       "         [68,  2, 85],\n",
       "         [68,  2, 85],\n",
       "         [68,  2, 85]],\n",
       "\n",
       "        [[68,  1, 84],\n",
       "         [68,  1, 84],\n",
       "         [68,  1, 84],\n",
       "         ...,\n",
       "         [68,  1, 84],\n",
       "         [68,  1, 84],\n",
       "         [68,  1, 84]]],\n",
       "\n",
       "\n",
       "       [[[68,  1, 84],\n",
       "         [68,  1, 84],\n",
       "         [68,  1, 84],\n",
       "         ...,\n",
       "         [68,  1, 84],\n",
       "         [68,  1, 84],\n",
       "         [68,  1, 84]],\n",
       "\n",
       "        [[68,  1, 84],\n",
       "         [68,  1, 84],\n",
       "         [68,  1, 84],\n",
       "         ...,\n",
       "         [68,  1, 84],\n",
       "         [68,  1, 84],\n",
       "         [68,  1, 84]],\n",
       "\n",
       "        [[68,  1, 84],\n",
       "         [68,  1, 84],\n",
       "         [68,  1, 84],\n",
       "         ...,\n",
       "         [68,  3, 87],\n",
       "         [68,  3, 87],\n",
       "         [68,  2, 85]],\n",
       "\n",
       "        ...,\n",
       "\n",
       "        [[68,  1, 84],\n",
       "         [68,  1, 84],\n",
       "         [68,  1, 84],\n",
       "         ...,\n",
       "         [68,  3, 87],\n",
       "         [68,  2, 86],\n",
       "         [68,  2, 85]],\n",
       "\n",
       "        [[68,  1, 84],\n",
       "         [68,  1, 84],\n",
       "         [68,  1, 84],\n",
       "         ...,\n",
       "         [68,  2, 85],\n",
       "         [68,  2, 85],\n",
       "         [68,  2, 85]],\n",
       "\n",
       "        [[68,  1, 84],\n",
       "         [68,  1, 84],\n",
       "         [68,  1, 84],\n",
       "         ...,\n",
       "         [68,  1, 84],\n",
       "         [68,  1, 84],\n",
       "         [68,  1, 84]]],\n",
       "\n",
       "\n",
       "       [[[68,  1, 84],\n",
       "         [68,  1, 84],\n",
       "         [68,  1, 84],\n",
       "         ...,\n",
       "         [68,  1, 84],\n",
       "         [68,  1, 84],\n",
       "         [68,  1, 84]],\n",
       "\n",
       "        [[68,  1, 84],\n",
       "         [68,  1, 84],\n",
       "         [68,  1, 84],\n",
       "         ...,\n",
       "         [68,  1, 84],\n",
       "         [68,  3, 86],\n",
       "         [68,  1, 84]],\n",
       "\n",
       "        [[68,  1, 84],\n",
       "         [68,  1, 84],\n",
       "         [68,  1, 84],\n",
       "         ...,\n",
       "         [68,  3, 87],\n",
       "         [68,  3, 87],\n",
       "         [68,  3, 87]],\n",
       "\n",
       "        ...,\n",
       "\n",
       "        [[68,  1, 84],\n",
       "         [68,  2, 85],\n",
       "         [68,  2, 85],\n",
       "         ...,\n",
       "         [68,  3, 87],\n",
       "         [69,  5, 88],\n",
       "         [68,  2, 85]],\n",
       "\n",
       "        [[68,  1, 84],\n",
       "         [68,  1, 84],\n",
       "         [68,  1, 84],\n",
       "         ...,\n",
       "         [68,  3, 87],\n",
       "         [68,  2, 86],\n",
       "         [68,  1, 84]],\n",
       "\n",
       "        [[68,  1, 84],\n",
       "         [68,  1, 84],\n",
       "         [68,  1, 84],\n",
       "         ...,\n",
       "         [68,  1, 84],\n",
       "         [68,  1, 84],\n",
       "         [68,  1, 84]]]], dtype=uint8)"
      ]
     },
     "execution_count": 14,
     "metadata": {},
     "output_type": "execute_result"
    }
   ],
   "source": [
    "x #here 68 represents the intensity of the red channel,1-blue channel,84-green channel dark blue color is mainly stored"
   ]
  },
  {
   "cell_type": "code",
   "execution_count": 15,
   "id": "fe6ac261-f754-43ed-909a-8ede9ff6af50",
   "metadata": {},
   "outputs": [
    {
     "data": {
      "text/plain": [
       "array([0, 0, 0, ..., 2, 2, 2])"
      ]
     },
     "execution_count": 15,
     "metadata": {},
     "output_type": "execute_result"
    }
   ],
   "source": [
    "y ##indicates the labels"
   ]
  },
  {
   "cell_type": "code",
   "execution_count": 16,
   "id": "3f2dfdff-0e20-4587-bf57-cd5a670d080c",
   "metadata": {},
   "outputs": [
    {
     "name": "stdout",
     "output_type": "stream",
     "text": [
      "1    1426\n",
      "2     930\n",
      "0     708\n",
      "Name: count, dtype: int64\n"
     ]
    }
   ],
   "source": [
    "#count of each tumor\n",
    "print(pd.Series(y).value_counts())"
   ]
  },
  {
   "cell_type": "markdown",
   "id": "7b075905-90ab-4014-a5fe-11534daf939b",
   "metadata": {},
   "source": [
    "If the random_state in not there, then every time you run(execute) your code a new random value is generated and the train and test datasets would have different values each time."
   ]
  },
  {
   "cell_type": "code",
   "execution_count": 17,
   "id": "f6076e58-46ce-492d-9f20-b4348a62890d",
   "metadata": {},
   "outputs": [],
   "source": [
    "#splitting the data\n",
    "x_train, x_test, y_train, y_test = train_test_split(x, y, random_state=10, test_size=0.3)"
   ]
  },
  {
   "cell_type": "markdown",
   "id": "64174101-1dad-4dd4-9e92-f6b6ca2106cb",
   "metadata": {},
   "source": [
    "Since we are working with neural networks,the neural network will perform well when input values are in range of [0,1] or [-1,1]\n",
    "So,to achieve this we do normalization of the values.original range[0,255]\n",
    "astype('float32') converts the data type of the pixel values from integers (it is generally unit8(8-bit integers)) to 32-bit floating point numbers"
   ]
  },
  {
   "cell_type": "code",
   "execution_count": 18,
   "id": "b7741d38-805f-4148-8c45-fc8ae972d3dc",
   "metadata": {},
   "outputs": [],
   "source": [
    "# Normalize pixel values\n",
    "x_train = x_train.astype('float32') / 255.0\n",
    "x_test = x_test.astype('float32') / 255.0"
   ]
  },
  {
   "cell_type": "markdown",
   "id": "608963a2-10c4-45fe-9767-88a2436d1210",
   "metadata": {},
   "source": [
    "Here the input layer will take 200 X200 image with 3 color channels(RGB) then convolutional layer is built with 32 filters(each filters will learn to detect various features like shape,size,texture and output 32 diff 2 dimensional one for each filter) with size 3X3 which uses activation fuction(introduce non-linearity to model to learn complex structures) ReLU(rectified linear unit) which make sures that input recieved by conv1 is not negative value since it will cause slower processing and less optimized.Next pooling layer1 is built which reduces the dimension by factor of 2 and by including MaxPooling2D layers,the important features are preserved while the less important details are removed, leading to a more efficient and effective neural network.(2,2)represents the pooling window size.MaxPooling2D operates by sliding a window (of specified size) over the input and taking the maximum value within the window for each position. The size of the window determine how much the input is downsampled.next in flatten layer the 3D ouput from previous layer is converted to 1D vector because we have to send to fully connected layers.Dense1(fully connected input layer used for connecting input to corresponding outputs) will flatten the outputs from previous layers and output_layer(first fully connected output layer) will gives the final probabilities for each label.next cnn_model will combine the layers into a Keras model with specified input and output layers."
   ]
  },
  {
   "cell_type": "markdown",
   "id": "c4f53722-c7c5-4812-834c-a4cb4fe8950a",
   "metadata": {},
   "source": [
    "Then the model is compiled which used the optimizer whose function is to determine how weights are adjusted based on gradient loss function.'adam'(adaptive movement estimation full form)is  used because of its efficiency and ability to adapt learning rates(dynamically adjusts) for each parameter.loss function(sparse:Assumes the target labels are integers)computes the difference between the predicted and true labels during training.metrics evaluates the model's performance based on accuracy during training and validation."
   ]
  },
  {
   "cell_type": "code",
   "execution_count": 19,
   "id": "2c87499c-5149-45c1-8a16-c3935afe5817",
   "metadata": {},
   "outputs": [],
   "source": [
    "#build model\n",
    "input_layer = Input(shape=(200, 200, 3))\n",
    "conv1 = Conv2D(32, (3, 3), activation='relu')(input_layer)\n",
    "pool1 = MaxPooling2D((2, 2))(conv1)\n",
    "conv2 = Conv2D(64, (3, 3), activation='relu')(pool1)\n",
    "pool2 = MaxPooling2D((2, 2))(conv2)\n",
    "conv3 = Conv2D(128, (3, 3), activation='relu')(pool2)\n",
    "pool3 = MaxPooling2D((2, 2))(conv3)\n",
    "flatten = Flatten()(pool3)\n",
    "dense1 = Dense(128, activation='relu')(flatten)\n",
    "output_layer = Dense(3, activation='softmax')(dense1)\n",
    "\n",
    "cnn_model = Model(inputs=input_layer, outputs=output_layer)\n",
    "cnn_model.compile(optimizer='adam', loss='sparse_categorical_crossentropy', metrics=['accuracy'])"
   ]
  },
  {
   "cell_type": "markdown",
   "id": "e6c636b4-b1ff-4c1a-95bf-6284bb503377",
   "metadata": {},
   "source": [
    "train the model based on training set and epochs will tell how many passes will be done on the entire training data (10 complete passes over the training data.)then batch size will be used to divide the training data into batches of batch_size samples.The model weights are updated after each batch.Validation_split will split the data from training data for further evaluation of perfomance."
   ]
  },
  {
   "cell_type": "code",
   "execution_count": 20,
   "id": "8ba8ff34-f6a2-40bb-b64b-a3898c02d688",
   "metadata": {},
   "outputs": [
    {
     "name": "stdout",
     "output_type": "stream",
     "text": [
      "Epoch 1/50\n",
      "\u001b[1m61/61\u001b[0m \u001b[32m━━━━━━━━━━━━━━━━━━━━\u001b[0m\u001b[37m\u001b[0m \u001b[1m36s\u001b[0m 553ms/step - accuracy: 0.5812 - loss: 1.0358 - val_accuracy: 0.7721 - val_loss: 0.5636\n",
      "Epoch 2/50\n",
      "\u001b[1m61/61\u001b[0m \u001b[32m━━━━━━━━━━━━━━━━━━━━\u001b[0m\u001b[37m\u001b[0m \u001b[1m30s\u001b[0m 490ms/step - accuracy: 0.8057 - loss: 0.4568 - val_accuracy: 0.8233 - val_loss: 0.4947\n",
      "Epoch 3/50\n",
      "\u001b[1m61/61\u001b[0m \u001b[32m━━━━━━━━━━━━━━━━━━━━\u001b[0m\u001b[37m\u001b[0m \u001b[1m29s\u001b[0m 473ms/step - accuracy: 0.8352 - loss: 0.3744 - val_accuracy: 0.8884 - val_loss: 0.3042\n",
      "Epoch 4/50\n",
      "\u001b[1m61/61\u001b[0m \u001b[32m━━━━━━━━━━━━━━━━━━━━\u001b[0m\u001b[37m\u001b[0m \u001b[1m29s\u001b[0m 468ms/step - accuracy: 0.9166 - loss: 0.2326 - val_accuracy: 0.8744 - val_loss: 0.3231\n",
      "Epoch 5/50\n",
      "\u001b[1m61/61\u001b[0m \u001b[32m━━━━━━━━━━━━━━━━━━━━\u001b[0m\u001b[37m\u001b[0m \u001b[1m29s\u001b[0m 468ms/step - accuracy: 0.9321 - loss: 0.1877 - val_accuracy: 0.8884 - val_loss: 0.3640\n",
      "Epoch 6/50\n",
      "\u001b[1m61/61\u001b[0m \u001b[32m━━━━━━━━━━━━━━━━━━━━\u001b[0m\u001b[37m\u001b[0m \u001b[1m29s\u001b[0m 471ms/step - accuracy: 0.9557 - loss: 0.1199 - val_accuracy: 0.8791 - val_loss: 0.4913\n",
      "Epoch 7/50\n",
      "\u001b[1m61/61\u001b[0m \u001b[32m━━━━━━━━━━━━━━━━━━━━\u001b[0m\u001b[37m\u001b[0m \u001b[1m29s\u001b[0m 473ms/step - accuracy: 0.9694 - loss: 0.0891 - val_accuracy: 0.9163 - val_loss: 0.2563\n",
      "Epoch 8/50\n",
      "\u001b[1m61/61\u001b[0m \u001b[32m━━━━━━━━━━━━━━━━━━━━\u001b[0m\u001b[37m\u001b[0m \u001b[1m29s\u001b[0m 471ms/step - accuracy: 0.9924 - loss: 0.0300 - val_accuracy: 0.9349 - val_loss: 0.2089\n",
      "Epoch 9/50\n",
      "\u001b[1m61/61\u001b[0m \u001b[32m━━━━━━━━━━━━━━━━━━━━\u001b[0m\u001b[37m\u001b[0m \u001b[1m29s\u001b[0m 470ms/step - accuracy: 0.9875 - loss: 0.0390 - val_accuracy: 0.8977 - val_loss: 0.3479\n",
      "Epoch 10/50\n",
      "\u001b[1m61/61\u001b[0m \u001b[32m━━━━━━━━━━━━━━━━━━━━\u001b[0m\u001b[37m\u001b[0m \u001b[1m29s\u001b[0m 475ms/step - accuracy: 0.9916 - loss: 0.0230 - val_accuracy: 0.9209 - val_loss: 0.3461\n",
      "Epoch 11/50\n",
      "\u001b[1m61/61\u001b[0m \u001b[32m━━━━━━━━━━━━━━━━━━━━\u001b[0m\u001b[37m\u001b[0m \u001b[1m29s\u001b[0m 481ms/step - accuracy: 0.9970 - loss: 0.0066 - val_accuracy: 0.8930 - val_loss: 0.4845\n",
      "Epoch 12/50\n",
      "\u001b[1m61/61\u001b[0m \u001b[32m━━━━━━━━━━━━━━━━━━━━\u001b[0m\u001b[37m\u001b[0m \u001b[1m30s\u001b[0m 485ms/step - accuracy: 0.9985 - loss: 0.0078 - val_accuracy: 0.9163 - val_loss: 0.3291\n",
      "Epoch 13/50\n",
      "\u001b[1m61/61\u001b[0m \u001b[32m━━━━━━━━━━━━━━━━━━━━\u001b[0m\u001b[37m\u001b[0m \u001b[1m30s\u001b[0m 491ms/step - accuracy: 0.9989 - loss: 0.0030 - val_accuracy: 0.9302 - val_loss: 0.3600\n",
      "Epoch 14/50\n",
      "\u001b[1m61/61\u001b[0m \u001b[32m━━━━━━━━━━━━━━━━━━━━\u001b[0m\u001b[37m\u001b[0m \u001b[1m30s\u001b[0m 494ms/step - accuracy: 0.9999 - loss: 0.0016 - val_accuracy: 0.8930 - val_loss: 0.4015\n",
      "Epoch 15/50\n",
      "\u001b[1m61/61\u001b[0m \u001b[32m━━━━━━━━━━━━━━━━━━━━\u001b[0m\u001b[37m\u001b[0m \u001b[1m31s\u001b[0m 505ms/step - accuracy: 0.9549 - loss: 0.1226 - val_accuracy: 0.9163 - val_loss: 0.4015\n",
      "Epoch 16/50\n",
      "\u001b[1m61/61\u001b[0m \u001b[32m━━━━━━━━━━━━━━━━━━━━\u001b[0m\u001b[37m\u001b[0m \u001b[1m32s\u001b[0m 518ms/step - accuracy: 0.9855 - loss: 0.0275 - val_accuracy: 0.8977 - val_loss: 0.4155\n",
      "Epoch 17/50\n",
      "\u001b[1m61/61\u001b[0m \u001b[32m━━━━━━━━━━━━━━━━━━━━\u001b[0m\u001b[37m\u001b[0m \u001b[1m32s\u001b[0m 521ms/step - accuracy: 0.9999 - loss: 0.0035 - val_accuracy: 0.9256 - val_loss: 0.3450\n",
      "Epoch 18/50\n",
      "\u001b[1m61/61\u001b[0m \u001b[32m━━━━━━━━━━━━━━━━━━━━\u001b[0m\u001b[37m\u001b[0m \u001b[1m34s\u001b[0m 560ms/step - accuracy: 1.0000 - loss: 7.9320e-04 - val_accuracy: 0.9302 - val_loss: 0.3626\n",
      "Epoch 19/50\n",
      "\u001b[1m61/61\u001b[0m \u001b[32m━━━━━━━━━━━━━━━━━━━━\u001b[0m\u001b[37m\u001b[0m \u001b[1m33s\u001b[0m 544ms/step - accuracy: 1.0000 - loss: 3.0337e-04 - val_accuracy: 0.9349 - val_loss: 0.3742\n",
      "Epoch 20/50\n",
      "\u001b[1m61/61\u001b[0m \u001b[32m━━━━━━━━━━━━━━━━━━━━\u001b[0m\u001b[37m\u001b[0m \u001b[1m35s\u001b[0m 569ms/step - accuracy: 1.0000 - loss: 2.1177e-04 - val_accuracy: 0.9349 - val_loss: 0.3804\n",
      "Epoch 21/50\n",
      "\u001b[1m61/61\u001b[0m \u001b[32m━━━━━━━━━━━━━━━━━━━━\u001b[0m\u001b[37m\u001b[0m \u001b[1m39s\u001b[0m 637ms/step - accuracy: 1.0000 - loss: 1.5989e-04 - val_accuracy: 0.9349 - val_loss: 0.3876\n",
      "Epoch 22/50\n",
      "\u001b[1m61/61\u001b[0m \u001b[32m━━━━━━━━━━━━━━━━━━━━\u001b[0m\u001b[37m\u001b[0m \u001b[1m34s\u001b[0m 553ms/step - accuracy: 1.0000 - loss: 1.2647e-04 - val_accuracy: 0.9349 - val_loss: 0.3944\n",
      "Epoch 23/50\n",
      "\u001b[1m61/61\u001b[0m \u001b[32m━━━━━━━━━━━━━━━━━━━━\u001b[0m\u001b[37m\u001b[0m \u001b[1m31s\u001b[0m 513ms/step - accuracy: 1.0000 - loss: 1.0904e-04 - val_accuracy: 0.9349 - val_loss: 0.3998\n",
      "Epoch 24/50\n",
      "\u001b[1m61/61\u001b[0m \u001b[32m━━━━━━━━━━━━━━━━━━━━\u001b[0m\u001b[37m\u001b[0m \u001b[1m31s\u001b[0m 510ms/step - accuracy: 1.0000 - loss: 8.7119e-05 - val_accuracy: 0.9395 - val_loss: 0.4032\n",
      "Epoch 25/50\n",
      "\u001b[1m61/61\u001b[0m \u001b[32m━━━━━━━━━━━━━━━━━━━━\u001b[0m\u001b[37m\u001b[0m \u001b[1m31s\u001b[0m 508ms/step - accuracy: 1.0000 - loss: 9.1271e-05 - val_accuracy: 0.9349 - val_loss: 0.4080\n",
      "Epoch 26/50\n",
      "\u001b[1m61/61\u001b[0m \u001b[32m━━━━━━━━━━━━━━━━━━━━\u001b[0m\u001b[37m\u001b[0m \u001b[1m32s\u001b[0m 527ms/step - accuracy: 1.0000 - loss: 7.9431e-05 - val_accuracy: 0.9349 - val_loss: 0.4128\n",
      "Epoch 27/50\n",
      "\u001b[1m61/61\u001b[0m \u001b[32m━━━━━━━━━━━━━━━━━━━━\u001b[0m\u001b[37m\u001b[0m \u001b[1m31s\u001b[0m 510ms/step - accuracy: 1.0000 - loss: 5.5631e-05 - val_accuracy: 0.9349 - val_loss: 0.4171\n",
      "Epoch 28/50\n",
      "\u001b[1m61/61\u001b[0m \u001b[32m━━━━━━━━━━━━━━━━━━━━\u001b[0m\u001b[37m\u001b[0m \u001b[1m31s\u001b[0m 507ms/step - accuracy: 1.0000 - loss: 6.1012e-05 - val_accuracy: 0.9349 - val_loss: 0.4200\n",
      "Epoch 29/50\n",
      "\u001b[1m61/61\u001b[0m \u001b[32m━━━━━━━━━━━━━━━━━━━━\u001b[0m\u001b[37m\u001b[0m \u001b[1m31s\u001b[0m 512ms/step - accuracy: 1.0000 - loss: 5.0192e-05 - val_accuracy: 0.9349 - val_loss: 0.4228\n",
      "Epoch 30/50\n",
      "\u001b[1m61/61\u001b[0m \u001b[32m━━━━━━━━━━━━━━━━━━━━\u001b[0m\u001b[37m\u001b[0m \u001b[1m31s\u001b[0m 514ms/step - accuracy: 1.0000 - loss: 4.7776e-05 - val_accuracy: 0.9349 - val_loss: 0.4262\n",
      "Epoch 31/50\n",
      "\u001b[1m61/61\u001b[0m \u001b[32m━━━━━━━━━━━━━━━━━━━━\u001b[0m\u001b[37m\u001b[0m \u001b[1m32s\u001b[0m 523ms/step - accuracy: 1.0000 - loss: 3.9067e-05 - val_accuracy: 0.9349 - val_loss: 0.4291\n",
      "Epoch 32/50\n",
      "\u001b[1m61/61\u001b[0m \u001b[32m━━━━━━━━━━━━━━━━━━━━\u001b[0m\u001b[37m\u001b[0m \u001b[1m32s\u001b[0m 531ms/step - accuracy: 1.0000 - loss: 3.9589e-05 - val_accuracy: 0.9349 - val_loss: 0.4319\n",
      "Epoch 33/50\n",
      "\u001b[1m61/61\u001b[0m \u001b[32m━━━━━━━━━━━━━━━━━━━━\u001b[0m\u001b[37m\u001b[0m \u001b[1m33s\u001b[0m 539ms/step - accuracy: 1.0000 - loss: 3.4519e-05 - val_accuracy: 0.9349 - val_loss: 0.4346\n",
      "Epoch 34/50\n",
      "\u001b[1m61/61\u001b[0m \u001b[32m━━━━━━━━━━━━━━━━━━━━\u001b[0m\u001b[37m\u001b[0m \u001b[1m32s\u001b[0m 528ms/step - accuracy: 1.0000 - loss: 3.1145e-05 - val_accuracy: 0.9349 - val_loss: 0.4363\n",
      "Epoch 35/50\n",
      "\u001b[1m61/61\u001b[0m \u001b[32m━━━━━━━━━━━━━━━━━━━━\u001b[0m\u001b[37m\u001b[0m \u001b[1m32s\u001b[0m 521ms/step - accuracy: 1.0000 - loss: 2.6272e-05 - val_accuracy: 0.9349 - val_loss: 0.4403\n",
      "Epoch 36/50\n",
      "\u001b[1m61/61\u001b[0m \u001b[32m━━━━━━━━━━━━━━━━━━━━\u001b[0m\u001b[37m\u001b[0m \u001b[1m32s\u001b[0m 525ms/step - accuracy: 1.0000 - loss: 2.5876e-05 - val_accuracy: 0.9349 - val_loss: 0.4419\n",
      "Epoch 37/50\n",
      "\u001b[1m61/61\u001b[0m \u001b[32m━━━━━━━━━━━━━━━━━━━━\u001b[0m\u001b[37m\u001b[0m \u001b[1m32s\u001b[0m 523ms/step - accuracy: 1.0000 - loss: 2.7452e-05 - val_accuracy: 0.9349 - val_loss: 0.4425\n",
      "Epoch 38/50\n",
      "\u001b[1m61/61\u001b[0m \u001b[32m━━━━━━━━━━━━━━━━━━━━\u001b[0m\u001b[37m\u001b[0m \u001b[1m32s\u001b[0m 523ms/step - accuracy: 1.0000 - loss: 1.9294e-05 - val_accuracy: 0.9349 - val_loss: 0.4440\n",
      "Epoch 39/50\n",
      "\u001b[1m61/61\u001b[0m \u001b[32m━━━━━━━━━━━━━━━━━━━━\u001b[0m\u001b[37m\u001b[0m \u001b[1m32s\u001b[0m 522ms/step - accuracy: 1.0000 - loss: 1.9511e-05 - val_accuracy: 0.9349 - val_loss: 0.4459\n",
      "Epoch 40/50\n",
      "\u001b[1m61/61\u001b[0m \u001b[32m━━━━━━━━━━━━━━━━━━━━\u001b[0m\u001b[37m\u001b[0m \u001b[1m32s\u001b[0m 517ms/step - accuracy: 1.0000 - loss: 1.8017e-05 - val_accuracy: 0.9349 - val_loss: 0.4495\n",
      "Epoch 41/50\n",
      "\u001b[1m61/61\u001b[0m \u001b[32m━━━━━━━━━━━━━━━━━━━━\u001b[0m\u001b[37m\u001b[0m \u001b[1m32s\u001b[0m 523ms/step - accuracy: 1.0000 - loss: 1.4877e-05 - val_accuracy: 0.9349 - val_loss: 0.4537\n",
      "Epoch 42/50\n",
      "\u001b[1m61/61\u001b[0m \u001b[32m━━━━━━━━━━━━━━━━━━━━\u001b[0m\u001b[37m\u001b[0m \u001b[1m35s\u001b[0m 571ms/step - accuracy: 1.0000 - loss: 1.4648e-05 - val_accuracy: 0.9395 - val_loss: 0.4511\n",
      "Epoch 43/50\n",
      "\u001b[1m61/61\u001b[0m \u001b[32m━━━━━━━━━━━━━━━━━━━━\u001b[0m\u001b[37m\u001b[0m \u001b[1m33s\u001b[0m 538ms/step - accuracy: 1.0000 - loss: 1.2541e-05 - val_accuracy: 0.9349 - val_loss: 0.4578\n",
      "Epoch 44/50\n",
      "\u001b[1m61/61\u001b[0m \u001b[32m━━━━━━━━━━━━━━━━━━━━\u001b[0m\u001b[37m\u001b[0m \u001b[1m32s\u001b[0m 529ms/step - accuracy: 1.0000 - loss: 1.1025e-05 - val_accuracy: 0.9395 - val_loss: 0.4528\n",
      "Epoch 45/50\n",
      "\u001b[1m61/61\u001b[0m \u001b[32m━━━━━━━━━━━━━━━━━━━━\u001b[0m\u001b[37m\u001b[0m \u001b[1m32s\u001b[0m 521ms/step - accuracy: 1.0000 - loss: 9.8192e-06 - val_accuracy: 0.9395 - val_loss: 0.4603\n",
      "Epoch 46/50\n",
      "\u001b[1m61/61\u001b[0m \u001b[32m━━━━━━━━━━━━━━━━━━━━\u001b[0m\u001b[37m\u001b[0m \u001b[1m32s\u001b[0m 522ms/step - accuracy: 1.0000 - loss: 8.5128e-06 - val_accuracy: 0.9395 - val_loss: 0.4525\n",
      "Epoch 47/50\n",
      "\u001b[1m61/61\u001b[0m \u001b[32m━━━━━━━━━━━━━━━━━━━━\u001b[0m\u001b[37m\u001b[0m \u001b[1m32s\u001b[0m 527ms/step - accuracy: 1.0000 - loss: 7.9858e-06 - val_accuracy: 0.9395 - val_loss: 0.4571\n",
      "Epoch 48/50\n",
      "\u001b[1m61/61\u001b[0m \u001b[32m━━━━━━━━━━━━━━━━━━━━\u001b[0m\u001b[37m\u001b[0m \u001b[1m32s\u001b[0m 527ms/step - accuracy: 1.0000 - loss: 8.1155e-06 - val_accuracy: 0.9395 - val_loss: 0.4649\n",
      "Epoch 49/50\n",
      "\u001b[1m61/61\u001b[0m \u001b[32m━━━━━━━━━━━━━━━━━━━━\u001b[0m\u001b[37m\u001b[0m \u001b[1m32s\u001b[0m 520ms/step - accuracy: 1.0000 - loss: 6.0845e-06 - val_accuracy: 0.9395 - val_loss: 0.4625\n",
      "Epoch 50/50\n",
      "\u001b[1m61/61\u001b[0m \u001b[32m━━━━━━━━━━━━━━━━━━━━\u001b[0m\u001b[37m\u001b[0m \u001b[1m33s\u001b[0m 533ms/step - accuracy: 1.0000 - loss: 6.1159e-06 - val_accuracy: 0.9349 - val_loss: 0.4723\n"
     ]
    }
   ],
   "source": [
    "# fit the model\n",
    "history = cnn_model.fit(x_train, y_train, epochs=50, batch_size=32, validation_split=0.1)"
   ]
  },
  {
   "cell_type": "markdown",
   "id": "d24d2cb0-552b-4834-af93-aae7a88babf9",
   "metadata": {},
   "source": [
    "the training accuracy is compared with validation accuracy to know the performance of model and know about overfitting and underfitting."
   ]
  },
  {
   "cell_type": "code",
   "execution_count": 21,
   "id": "64842885-ab3c-4bc3-894e-81f81fd92d8b",
   "metadata": {},
   "outputs": [
    {
     "data": {
      "image/png": "[encoded data removed]",
      "text/plain": [
       "<Figure size 1200x600 with 2 Axes>"
      ]
     },
     "metadata": {},
     "output_type": "display_data"
    }
   ],
   "source": [
    "# plotting accuracy and loss over epochs \n",
    "def plot_accuracy_and_loss(history):\n",
    "    plt.figure(figsize=(12, 6))\n",
    "\n",
    "    plt.subplot(1, 2, 1)\n",
    "    plt.plot(history.history['accuracy'], label='Training Accuracy')\n",
    "    plt.plot(history.history['val_accuracy'], label='Validation Accuracy')\n",
    "    plt.title('CNN Model Accuracy')\n",
    "    plt.xlabel('Epochs')\n",
    "    plt.ylabel('Accuracy')\n",
    "    plt.legend()\n",
    "\n",
    "    plt.subplot(1, 2, 2)\n",
    "    plt.plot(history.history['loss'], label='Training Loss')\n",
    "    plt.plot(history.history['val_loss'], label='Validation Loss')\n",
    "    plt.title('CNN Model Loss')\n",
    "    plt.xlabel('Epochs')\n",
    "    plt.ylabel('Loss')\n",
    "    plt.legend()\n",
    "\n",
    "    plt.tight_layout()\n",
    "    plt.show()\n",
    "\n",
    "# Plot accuracy and loss\n",
    "plot_accuracy_and_loss(history)"
   ]
  },
  {
   "cell_type": "markdown",
   "id": "88d722e3-6645-480b-8c81-5c9a7af2ec6b",
   "metadata": {},
   "source": [
    "creating the keras model as extract_features where input will be same as cnn_model and output will be second last layer which is basically dense layer which contains high level features.Then the model extract_features to each x_train data. This means that each sample in x_train is passed through the extract_features model, and the activations of the second-to-last layer (features) are computed for each sample.\n",
    "Similarly, applies the extract_features model to the x_test data, computing the features for each sample in x_test."
   ]
  },
  {
   "cell_type": "code",
   "execution_count": 22,
   "id": "ee329ad2-e8f4-4bd1-8667-7e88eb16fe0e",
   "metadata": {},
   "outputs": [
    {
     "name": "stdout",
     "output_type": "stream",
     "text": [
      "\u001b[1m67/67\u001b[0m \u001b[32m━━━━━━━━━━━━━━━━━━━━\u001b[0m\u001b[37m\u001b[0m \u001b[1m10s\u001b[0m 135ms/step\n",
      "\u001b[1m29/29\u001b[0m \u001b[32m━━━━━━━━━━━━━━━━━━━━\u001b[0m\u001b[37m\u001b[0m \u001b[1m4s\u001b[0m 137ms/step\n"
     ]
    }
   ],
   "source": [
    "# extracting features from cnn(feature extraction)\n",
    "extract_features = Model(inputs=cnn_model.input, outputs=cnn_model.layers[-2].output)\n",
    "train_features = extract_features.predict(x_train)\n",
    "test_features = extract_features.predict(x_test)"
   ]
  },
  {
   "cell_type": "markdown",
   "id": "1fd027d0-a6f2-4c8b-a7e3-9618004319cd",
   "metadata": {},
   "source": [
    "Training an SVM model with features extracted from a CNN.First initializing the SVM, then extracted features from the CNN as input, and providing corresponding labels for supervised learning"
   ]
  },
  {
   "cell_type": "code",
   "execution_count": 23,
   "id": "8a5b295b-0467-4025-b5c1-1468b583fa28",
   "metadata": {},
   "outputs": [
    {
     "data": {
      "text/html": [
       "<style>#sk-container-id-1 {color: black;}#sk-container-id-1 pre{padding: 0;}#sk-container-id-1 div.sk-toggleable {background-color: white;}#sk-container-id-1 label.sk-toggleable__label {cursor: pointer;display: block;width: 100%;margin-bottom: 0;padding: 0.3em;box-sizing: border-box;text-align: center;}#sk-container-id-1 label.sk-toggleable__label-arrow:before {content: \"▸\";float: left;margin-right: 0.25em;color: #696969;}#sk-container-id-1 label.sk-toggleable__label-arrow:hover:before {color: black;}#sk-container-id-1 div.sk-estimator:hover label.sk-toggleable__label-arrow:before {color: black;}#sk-container-id-1 div.sk-toggleable__content {max-height: 0;max-width: 0;overflow: hidden;text-align: left;background-color: #f0f8ff;}#sk-container-id-1 div.sk-toggleable__content pre {margin: 0.2em;color: black;border-radius: 0.25em;background-color: #f0f8ff;}#sk-container-id-1 input.sk-toggleable__control:checked~div.sk-toggleable__content {max-height: 200px;max-width: 100%;overflow: auto;}#sk-container-id-1 input.sk-toggleable__control:checked~label.sk-toggleable__label-arrow:before {content: \"▾\";}#sk-container-id-1 div.sk-estimator input.sk-toggleable__control:checked~label.sk-toggleable__label {background-color: #d4ebff;}#sk-container-id-1 div.sk-label input.sk-toggleable__control:checked~label.sk-toggleable__label {background-color: #d4ebff;}#sk-container-id-1 input.sk-hidden--visually {border: 0;clip: rect(1px 1px 1px 1px);clip: rect(1px, 1px, 1px, 1px);height: 1px;margin: -1px;overflow: hidden;padding: 0;position: absolute;width: 1px;}#sk-container-id-1 div.sk-estimator {font-family: monospace;background-color: #f0f8ff;border: 1px dotted black;border-radius: 0.25em;box-sizing: border-box;margin-bottom: 0.5em;}#sk-container-id-1 div.sk-estimator:hover {background-color: #d4ebff;}#sk-container-id-1 div.sk-parallel-item::after {content: \"\";width: 100%;border-bottom: 1px solid gray;flex-grow: 1;}#sk-container-id-1 div.sk-label:hover label.sk-toggleable__label {background-color: #d4ebff;}#sk-container-id-1 div.sk-serial::before {content: \"\";position: absolute;border-left: 1px solid gray;box-sizing: border-box;top: 0;bottom: 0;left: 50%;z-index: 0;}#sk-container-id-1 div.sk-serial {display: flex;flex-direction: column;align-items: center;background-color: white;padding-right: 0.2em;padding-left: 0.2em;position: relative;}#sk-container-id-1 div.sk-item {position: relative;z-index: 1;}#sk-container-id-1 div.sk-parallel {display: flex;align-items: stretch;justify-content: center;background-color: white;position: relative;}#sk-container-id-1 div.sk-item::before, #sk-container-id-1 div.sk-parallel-item::before {content: \"\";position: absolute;border-left: 1px solid gray;box-sizing: border-box;top: 0;bottom: 0;left: 50%;z-index: -1;}#sk-container-id-1 div.sk-parallel-item {display: flex;flex-direction: column;z-index: 1;position: relative;background-color: white;}#sk-container-id-1 div.sk-parallel-item:first-child::after {align-self: flex-end;width: 50%;}#sk-container-id-1 div.sk-parallel-item:last-child::after {align-self: flex-start;width: 50%;}#sk-container-id-1 div.sk-parallel-item:only-child::after {width: 0;}#sk-container-id-1 div.sk-dashed-wrapped {border: 1px dashed gray;margin: 0 0.4em 0.5em 0.4em;box-sizing: border-box;padding-bottom: 0.4em;background-color: white;}#sk-container-id-1 div.sk-label label {font-family: monospace;font-weight: bold;display: inline-block;line-height: 1.2em;}#sk-container-id-1 div.sk-label-container {text-align: center;}#sk-container-id-1 div.sk-container {/* jupyter's `normalize.less` sets `[hidden] { display: none; }` but bootstrap.min.css set `[hidden] { display: none !important; }` so we also need the `!important` here to be able to override the default hidden behavior on the sphinx rendered scikit-learn.org. See: https://github.com/scikit-learn/scikit-learn/issues/21755 */display: inline-block !important;position: relative;}#sk-container-id-1 div.sk-text-repr-fallback {display: none;}</style><div id=\"sk-container-id-1\" class=\"sk-top-container\"><div class=\"sk-text-repr-fallback\"><pre>SVC()</pre><b>In a Jupyter environment, please rerun this cell to show the HTML representation or trust the notebook. <br />On GitHub, the HTML representation is unable to render, please try loading this page with nbviewer.org.</b></div><div class=\"sk-container\" hidden><div class=\"sk-item\"><div class=\"sk-estimator sk-toggleable\"><input class=\"sk-toggleable__control sk-hidden--visually\" id=\"sk-estimator-id-1\" type=\"checkbox\" checked><label for=\"sk-estimator-id-1\" class=\"sk-toggleable__label sk-toggleable__label-arrow\">SVC</label><div class=\"sk-toggleable__content\"><pre>SVC()</pre></div></div></div></div></div>"
      ],
      "text/plain": [
       "SVC()"
      ]
     },
     "execution_count": 23,
     "metadata": {},
     "output_type": "execute_result"
    }
   ],
   "source": [
    "#training svm model\n",
    "svm = SVC()\n",
    "svm.fit(train_features, y_train)"
   ]
  },
  {
   "cell_type": "markdown",
   "id": "48fccb0c-e00b-4e7a-83fd-771f8cbc05e4",
   "metadata": {},
   "source": [
    "label for test data is predicted using SVM and test_features are the extracted features from the CNN model for the test dataset. Each row in test_features represents the features extracted from one test sample."
   ]
  },
  {
   "cell_type": "code",
   "execution_count": 29,
   "id": "b50c522d-320a-4d69-95d9-3b9bd7821429",
   "metadata": {},
   "outputs": [
    {
     "name": "stdout",
     "output_type": "stream",
     "text": [
      "The obtained SVM model accuracy is: 92.5\n"
     ]
    }
   ],
   "source": [
    "#accuracy of svm\n",
    "svm_pred = svm.predict(test_features)\n",
    "svm_accuracy = accuracy_score(y_test, svm_pred)*100\n",
    "print(\"The obtained SVM model accuracy is:\", svm_accuracy)"
   ]
  },
  {
   "cell_type": "markdown",
   "id": "fac9cc7c-2f1a-416a-89b0-97accd584edd",
   "metadata": {},
   "source": [
    "Here 180 images in test set were predicted correctly(true positive) and class 0 and 30 images were falsely predicted(false positive) as class 1 but belong to class 0 and 0 images where falsey predicted as class 2 but belong to class 0 simlilary for rest all classes too."
   ]
  },
  {
   "cell_type": "code",
   "execution_count": 36,
   "id": "4b432b2d-4533-4daf-b98d-578f36e33881",
   "metadata": {},
   "outputs": [
    {
     "name": "stdout",
     "output_type": "stream",
     "text": [
      "Confusion Matrix is:\n",
      " [[180  30   0]\n",
      " [ 28 404   4]\n",
      " [  7   0 267]]\n"
     ]
    },
    {
     "data": {
      "image/png": "[encoded data removed]",
      "text/plain": [
       "<Figure size 800x600 with 1 Axes>"
      ]
     },
     "metadata": {},
     "output_type": "display_data"
    }
   ],
   "source": [
    "import seaborn as sns\n",
    "from sklearn.metrics import accuracy_score, confusion_matrix, classification_report\n",
    "# Example of computing confusion matrix\n",
    "cm = confusion_matrix(y_test, svm_pred)\n",
    "print(\"Confusion Matrix is:\\n\",cm)\n",
    "# Plotting the confusion matrix\n",
    "plt.figure(figsize=(8, 6))\n",
    "sns.heatmap(cm, annot=True, cmap='Blues', fmt='g', cbar=False)\n",
    "\n",
    "plt.title('Confusion Matrix')\n",
    "plt.xlabel('Predicted')\n",
    "plt.ylabel('Actual')\n",
    "plt.show()\n"
   ]
  },
  {
   "cell_type": "code",
   "execution_count": 37,
   "id": "ee9e2288-aff9-4b6f-8e81-f40e099895fd",
   "metadata": {},
   "outputs": [
    {
     "name": "stdout",
     "output_type": "stream",
     "text": [
      "\n",
      "Classification Report:\n",
      "                  precision    recall  f1-score   support\n",
      "\n",
      "meningioma_tumor       0.84      0.86      0.85       210\n",
      "    glioma_tumor       0.93      0.93      0.93       436\n",
      " pituitary_tumor       0.99      0.97      0.98       274\n",
      "\n",
      "        accuracy                           0.93       920\n",
      "       macro avg       0.92      0.92      0.92       920\n",
      "    weighted avg       0.93      0.93      0.93       920\n",
      "\n"
     ]
    }
   ],
   "source": [
    "# classification report\n",
    "print(\"\\nClassification Report:\")\n",
    "print(classification_report(y_test, svm_pred, target_names=['meningioma_tumor', 'glioma_tumor', 'pituitary_tumor']))"
   ]
  },
  {
   "cell_type": "markdown",
   "id": "d92cc7ef-d250-41ed-9037-6267bc3aa79a",
   "metadata": {},
   "source": [
    "saving the cnn model for further use"
   ]
  },
  {
   "cell_type": "code",
   "execution_count": 38,
   "id": "9958cc61-ab89-436d-a4d3-7907a8faaf0b",
   "metadata": {},
   "outputs": [
    {
     "name": "stderr",
     "output_type": "stream",
     "text": [
      "WARNING:absl:You are saving your model as an HDF5 file via `model.save()` or `keras.saving.save_model(model)`. This file format is considered legacy. We recommend using instead the native Keras format, e.g. `model.save('my_model.keras')` or `keras.saving.save_model(model, 'my_model.keras')`. \n"
     ]
    },
    {
     "name": "stdout",
     "output_type": "stream",
     "text": [
      "Saved trained CNN model at cnn_model_final.h5\n"
     ]
    }
   ],
   "source": [
    "from tensorflow.keras.models import load_model\n",
    "\n",
    "# Define the path where you want to save the CNN model\n",
    "cnn_model_new_save_path = 'cnn_model_final.h5'\n",
    "\n",
    "# Save the CNN model\n",
    "cnn_model.save(cnn_model_new_save_path)\n",
    "print(f\"Saved trained CNN model at {cnn_model_new_save_path}\")"
   ]
  },
  {
   "cell_type": "code",
   "execution_count": 39,
   "id": "06610d50-0ba6-4cbe-ab84-f9ea8dadd148",
   "metadata": {},
   "outputs": [
    {
     "name": "stdout",
     "output_type": "stream",
     "text": [
      "Saved trained SVM model at svm_model_final.pkl\n"
     ]
    }
   ],
   "source": [
    "import joblib\n",
    "\n",
    "# Define the path where you want to save the SVM model\n",
    "svm_model_new_save_path = 'svm_model_final.pkl'\n",
    "\n",
    "# Save the SVM model\n",
    "joblib.dump(svm, svm_model_new_save_path)\n",
    "print(f\"Saved trained SVM model at {svm_model_new_save_path}\")"
   ]
  },
  {
   "cell_type": "code",
   "execution_count": null,
   "id": "69c10e92-b8f3-41ff-940a-b380bf371ea1",
   "metadata": {},
   "outputs": [],
   "source": []
  }
 ],
 "metadata": {
  "kernelspec": {
   "display_name": "Python 3 (ipykernel)",
   "language": "python",
   "name": "python3"
  },
  "language_info": {
   "codemirror_mode": {
    "name": "ipython",
    "version": 3
   },
   "file_extension": ".py",
   "mimetype": "text/x-python",
   "name": "python",
   "nbconvert_exporter": "python",
   "pygments_lexer": "ipython3",
   "version": "3.12.1"
  }
 },
 "nbformat": 4,
 "nbformat_minor": 5
}
